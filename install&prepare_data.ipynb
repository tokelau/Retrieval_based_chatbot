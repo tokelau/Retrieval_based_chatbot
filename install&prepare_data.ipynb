{
 "cells": [
  {
   "cell_type": "markdown",
   "metadata": {},
   "source": [
    "# Скачаем данные и предвычислим эмбеддинги для BI-енкодера\n",
    "\n",
    "Датасет с полным набором реплик из сериала доктор Хаус https://www.kaggle.com/datasets/kunalbhar/house-md-transcripts \n",
    "\n",
    "Преобразуем в формат \"запрос-ответ\" и оставим только пары с ответам Хауса"
   ]
  },
  {
   "cell_type": "code",
   "execution_count": 1,
   "metadata": {},
   "outputs": [],
   "source": [
    "import kagglehub\n",
    "from kagglehub import KaggleDatasetAdapter\n",
    "import pandas as pd\n",
    "\n",
    "# Load a DataFrame with a specific version of a CSV\n",
    "season2_df = kagglehub.load_dataset(\n",
    "    KaggleDatasetAdapter.PANDAS,\n",
    "    \"kunalbhar/house-md-transcripts\",\n",
    "    \"season2.csv\",\n",
    ")\n",
    "\n",
    "season3_df = kagglehub.load_dataset(\n",
    "    KaggleDatasetAdapter.PANDAS,\n",
    "    \"kunalbhar/house-md-transcripts\",\n",
    "    \"season3.csv\",\n",
    ")\n",
    "\n",
    "season4_df = kagglehub.load_dataset(\n",
    "    KaggleDatasetAdapter.PANDAS,\n",
    "    \"kunalbhar/house-md-transcripts\",\n",
    "    \"season4.csv\",\n",
    ")\n",
    "\n",
    "season5_df = kagglehub.load_dataset(\n",
    "    KaggleDatasetAdapter.PANDAS,\n",
    "    \"kunalbhar/house-md-transcripts\",\n",
    "    \"season5.csv\",\n",
    ")\n",
    "\n",
    "season6_df = kagglehub.load_dataset(\n",
    "    KaggleDatasetAdapter.PANDAS,\n",
    "    \"kunalbhar/house-md-transcripts\",\n",
    "    \"season6.csv\",\n",
    ")\n",
    "\n",
    "season7_df = kagglehub.load_dataset(\n",
    "    KaggleDatasetAdapter.PANDAS,\n",
    "    \"kunalbhar/house-md-transcripts\",\n",
    "    \"season7.csv\",\n",
    ")\n",
    "\n",
    "season8_df = kagglehub.load_dataset(\n",
    "    KaggleDatasetAdapter.PANDAS,\n",
    "    \"kunalbhar/house-md-transcripts\",\n",
    "    \"season8.csv\",\n",
    ")\n",
    "\n",
    "full_df = pd.concat([season2_df, season3_df, season4_df, season5_df, season6_df, season7_df, season8_df])\n",
    "# full_df = full_df[full_df['name'] == 'House'].copy()"
   ]
  },
  {
   "cell_type": "code",
   "execution_count": 2,
   "metadata": {},
   "outputs": [],
   "source": [
    "house_answers = full_df\n",
    "house_answers['responder'] = house_answers['name'].shift(-1)\n",
    "house_answers['response'] = house_answers['line'].shift(-1)\n",
    "house_answers = house_answers[house_answers['responder'] == 'House'].copy()"
   ]
  },
  {
   "cell_type": "code",
   "execution_count": 3,
   "metadata": {},
   "outputs": [
    {
     "data": {
      "text/html": [
       "<div>\n",
       "<style scoped>\n",
       "    .dataframe tbody tr th:only-of-type {\n",
       "        vertical-align: middle;\n",
       "    }\n",
       "\n",
       "    .dataframe tbody tr th {\n",
       "        vertical-align: top;\n",
       "    }\n",
       "\n",
       "    .dataframe thead th {\n",
       "        text-align: right;\n",
       "    }\n",
       "</style>\n",
       "<table border=\"1\" class=\"dataframe\">\n",
       "  <thead>\n",
       "    <tr style=\"text-align: right;\">\n",
       "      <th></th>\n",
       "      <th>name</th>\n",
       "      <th>line</th>\n",
       "      <th>responder</th>\n",
       "      <th>response</th>\n",
       "    </tr>\n",
       "  </thead>\n",
       "  <tbody>\n",
       "    <tr>\n",
       "      <th>18</th>\n",
       "      <td>James</td>\n",
       "      <td>You can't go in there.</td>\n",
       "      <td>House</td>\n",
       "      <td>Who are you, and why are you wearing a tie?</td>\n",
       "    </tr>\n",
       "    <tr>\n",
       "      <th>20</th>\n",
       "      <td>James</td>\n",
       "      <td>I'm Dr. Cuddy's new assistant. Can I tell her...</td>\n",
       "      <td>House</td>\n",
       "      <td>Yes. I would like to know why she gets a secr...</td>\n",
       "    </tr>\n",
       "    <tr>\n",
       "      <th>22</th>\n",
       "      <td>James</td>\n",
       "      <td>I'm her assistant, not her secretary. I gradu...</td>\n",
       "      <td>House</td>\n",
       "      <td>Hmm. I didn't know they had a secretarial sch...</td>\n",
       "    </tr>\n",
       "    <tr>\n",
       "      <th>24</th>\n",
       "      <td>Cuddy</td>\n",
       "      <td>Dr. House, we are in the middle of a meeting.</td>\n",
       "      <td>House</td>\n",
       "      <td>What's with hiring a male secretary? JDate no...</td>\n",
       "    </tr>\n",
       "    <tr>\n",
       "      <th>26</th>\n",
       "      <td>Stacy</td>\n",
       "      <td>He is cute. Be careful.</td>\n",
       "      <td>House</td>\n",
       "      <td>She's not like you. She can't just walk into ...</td>\n",
       "    </tr>\n",
       "  </tbody>\n",
       "</table>\n",
       "</div>"
      ],
      "text/plain": [
       "     name                                               line responder  \\\n",
       "18  James                             You can't go in there.     House   \n",
       "20  James   I'm Dr. Cuddy's new assistant. Can I tell her...     House   \n",
       "22  James   I'm her assistant, not her secretary. I gradu...     House   \n",
       "24  Cuddy      Dr. House, we are in the middle of a meeting.     House   \n",
       "26  Stacy                            He is cute. Be careful.     House   \n",
       "\n",
       "                                             response  \n",
       "18        Who are you, and why are you wearing a tie?  \n",
       "20   Yes. I would like to know why she gets a secr...  \n",
       "22   Hmm. I didn't know they had a secretarial sch...  \n",
       "24   What's with hiring a male secretary? JDate no...  \n",
       "26   She's not like you. She can't just walk into ...  "
      ]
     },
     "execution_count": 3,
     "metadata": {},
     "output_type": "execute_result"
    }
   ],
   "source": [
    "house_answers.head()"
   ]
  },
  {
   "cell_type": "code",
   "execution_count": 4,
   "metadata": {},
   "outputs": [
    {
     "data": {
      "text/plain": [
       "(17873, 4)"
      ]
     },
     "execution_count": 4,
     "metadata": {},
     "output_type": "execute_result"
    }
   ],
   "source": [
    "house_answers.shape"
   ]
  },
  {
   "cell_type": "code",
   "execution_count": 5,
   "metadata": {},
   "outputs": [],
   "source": [
    "house_answers.to_csv('data/house_answers.csv', index=False)"
   ]
  },
  {
   "cell_type": "markdown",
   "metadata": {},
   "source": [
    "# Добавим ембеддинги в датафрейм\n",
    "\n",
    "Предвычисленные эмбеддинги ускорят вычисления"
   ]
  },
  {
   "cell_type": "code",
   "execution_count": 1,
   "metadata": {},
   "outputs": [],
   "source": [
    "import torch\n",
    "from tqdm import tqdm\n",
    "from transformers import AutoTokenizer, AutoModel\n",
    "import datasets"
   ]
  },
  {
   "cell_type": "code",
   "execution_count": 2,
   "metadata": {},
   "outputs": [],
   "source": [
    "model_name = \"sentence-transformers/all-MiniLM-L6-v2\"\n",
    "tokenizer = AutoTokenizer.from_pretrained(model_name)\n",
    "# model = AutoModel.from_pretrained(\"models/bi_model\")"
   ]
  },
  {
   "cell_type": "markdown",
   "metadata": {},
   "source": [
    "### BI модель"
   ]
  },
  {
   "cell_type": "code",
   "execution_count": 3,
   "metadata": {},
   "outputs": [],
   "source": [
    "# def mean_pool(token_embeds: torch.tensor, attention_mask: torch.tensor) -> torch.tensor:\n",
    "#     in_mask = attention_mask.unsqueeze(-1).expand(token_embeds.size()).float()\n",
    "#     pool = torch.sum(token_embeds * in_mask, 1) / torch.clamp(in_mask.sum(1), min=1e-9)\n",
    "#     return pool\n",
    "\n",
    "\n",
    "# def encode(input_texts, tokenizer: AutoTokenizer, model: AutoModel, device: str = \"cpu\"\n",
    "# ) -> torch.tensor:\n",
    "\n",
    "#     model.eval()\n",
    "#     tokenized_texts = tokenizer(input_texts, max_length=128,\n",
    "#                                 padding='max_length', truncation=True, return_tensors=\"pt\")\n",
    "#     token_embeds = model(tokenized_texts[\"input_ids\"].to(device),\n",
    "#                          tokenized_texts[\"attention_mask\"].to(device)).last_hidden_state\n",
    "#     pooled_embeds = mean_pool(token_embeds, tokenized_texts[\"attention_mask\"].to(device))\n",
    "#     return pooled_embeds\n",
    "\n",
    "def mean_pool(token_embeds: torch.tensor, attention_mask: torch.tensor) -> torch.tensor:\n",
    "    in_mask = attention_mask.unsqueeze(-1).expand(token_embeds.size()).float()\n",
    "    pool = torch.sum(token_embeds * in_mask, 1) / torch.clamp(in_mask.sum(1), min=1e-9)\n",
    "    return pool\n",
    "\n",
    "\n",
    "def encode(input_texts: list[str], tokenizer: AutoTokenizer, model: AutoModel, device: str = \"cpu\"\n",
    ") -> torch.tensor:\n",
    "\n",
    "    model.eval()\n",
    "    tokenized_texts = tokenizer(input_texts, max_length=128,\n",
    "                                padding='max_length', truncation=True, return_tensors=\"pt\")\n",
    "    token_embeds = model(tokenized_texts[\"input_ids\"].to(device),\n",
    "                         tokenized_texts[\"attention_mask\"].to(device)).last_hidden_state\n",
    "    pooled_embeds = mean_pool(token_embeds, tokenized_texts[\"attention_mask\"].to(device))\n",
    "    return pooled_embeds\n",
    "\n",
    "class BiEncoder(torch.nn.Module):\n",
    "    def __init__(self, max_length: int = 128):\n",
    "        super().__init__()\n",
    "        self.max_length = max_length\n",
    "        self.bert_model = AutoModel.from_pretrained(model_name)\n",
    "        # self.bert_tokenizer = AutoTokenizer.from_pretrained('distilbert-base-uncased')\n",
    "        self.linear = torch.nn.Linear(self.bert_model.config.hidden_size * 3, 3)\n",
    "\n",
    "    def forward(self, data: datasets.arrow_dataset.Dataset) -> torch.tensor:\n",
    "        premise_input_ids = data[\"premise_input_ids\"].to(device)\n",
    "        premise_attention_mask = data[\"premise_attention_mask\"].to(device)\n",
    "        hypothesis_input_ids = data[\"hypothesis_input_ids\"].to(device)\n",
    "        hypothesis_attention_mask = data[\"hypothesis_attention_mask\"].to(device)\n",
    "\n",
    "        out_premise = self.bert_model(premise_input_ids, premise_attention_mask)\n",
    "        out_hypothesis = self.bert_model(hypothesis_input_ids, hypothesis_attention_mask)\n",
    "        premise_embeds = out_premise.last_hidden_state\n",
    "        hypothesis_embeds = out_hypothesis.last_hidden_state\n",
    "\n",
    "        pooled_premise_embeds = mean_pool(premise_embeds, premise_attention_mask)\n",
    "        pooled_hypotheses_embeds = mean_pool(hypothesis_embeds, hypothesis_attention_mask)\n",
    "\n",
    "        embeds =  torch.cat([pooled_premise_embeds, pooled_hypotheses_embeds,\n",
    "                             torch.abs(pooled_premise_embeds - pooled_hypotheses_embeds)],\n",
    "                            dim=-1)\n",
    "        return self.linear(embeds)\n"
   ]
  },
  {
   "cell_type": "code",
   "execution_count": 5,
   "metadata": {},
   "outputs": [
    {
     "data": {
      "text/plain": [
       "'cpu'"
      ]
     },
     "execution_count": 5,
     "metadata": {},
     "output_type": "execute_result"
    }
   ],
   "source": [
    "device = \"cuda\" if torch.cuda.is_available() else \"cpu\"\n",
    "device"
   ]
  },
  {
   "cell_type": "code",
   "execution_count": 6,
   "metadata": {},
   "outputs": [
    {
     "data": {
      "text/plain": [
       "BiEncoder(\n",
       "  (bert_model): BertModel(\n",
       "    (embeddings): BertEmbeddings(\n",
       "      (word_embeddings): Embedding(30522, 384, padding_idx=0)\n",
       "      (position_embeddings): Embedding(512, 384)\n",
       "      (token_type_embeddings): Embedding(2, 384)\n",
       "      (LayerNorm): LayerNorm((384,), eps=1e-12, elementwise_affine=True)\n",
       "      (dropout): Dropout(p=0.1, inplace=False)\n",
       "    )\n",
       "    (encoder): BertEncoder(\n",
       "      (layer): ModuleList(\n",
       "        (0-5): 6 x BertLayer(\n",
       "          (attention): BertAttention(\n",
       "            (self): BertSdpaSelfAttention(\n",
       "              (query): Linear(in_features=384, out_features=384, bias=True)\n",
       "              (key): Linear(in_features=384, out_features=384, bias=True)\n",
       "              (value): Linear(in_features=384, out_features=384, bias=True)\n",
       "              (dropout): Dropout(p=0.1, inplace=False)\n",
       "            )\n",
       "            (output): BertSelfOutput(\n",
       "              (dense): Linear(in_features=384, out_features=384, bias=True)\n",
       "              (LayerNorm): LayerNorm((384,), eps=1e-12, elementwise_affine=True)\n",
       "              (dropout): Dropout(p=0.1, inplace=False)\n",
       "            )\n",
       "          )\n",
       "          (intermediate): BertIntermediate(\n",
       "            (dense): Linear(in_features=384, out_features=1536, bias=True)\n",
       "            (intermediate_act_fn): GELUActivation()\n",
       "          )\n",
       "          (output): BertOutput(\n",
       "            (dense): Linear(in_features=1536, out_features=384, bias=True)\n",
       "            (LayerNorm): LayerNorm((384,), eps=1e-12, elementwise_affine=True)\n",
       "            (dropout): Dropout(p=0.1, inplace=False)\n",
       "          )\n",
       "        )\n",
       "      )\n",
       "    )\n",
       "    (pooler): BertPooler(\n",
       "      (dense): Linear(in_features=384, out_features=384, bias=True)\n",
       "      (activation): Tanh()\n",
       "    )\n",
       "  )\n",
       "  (linear): Linear(in_features=1152, out_features=3, bias=True)\n",
       ")"
      ]
     },
     "execution_count": 6,
     "metadata": {},
     "output_type": "execute_result"
    }
   ],
   "source": [
    "# Инициализируем модель\n",
    "bi_model = BiEncoder(model_name)\n",
    "bi_model.load_state_dict(torch.load('models/BI_model_last/BI_model.pth', weights_only=True, map_location=torch.device('cpu')))\n",
    "bi_model.to(device)"
   ]
  },
  {
   "cell_type": "code",
   "execution_count": 15,
   "metadata": {},
   "outputs": [],
   "source": [
    "def embed_texts(input_texts, tokenizer: AutoTokenizer, model: AutoModel, device: str = \"cpu\"\n",
    ") -> torch.tensor:\n",
    "    # model.eval()\n",
    "    # tokenized_texts = tokenizer(input_texts, max_length=128,\n",
    "    #                             padding='max_length', truncation=True, return_tensors=\"pt\")\n",
    "    # token_embeds = model(tokenized_texts[\"input_ids\"].to(device),\n",
    "    #                      tokenized_texts[\"attention_mask\"].to(device)).last_hidden_state\n",
    "    \n",
    "    # return token_embeds\n",
    "    model.eval()\n",
    "    tokenized_texts = tokenizer(input_texts, max_length=128,\n",
    "                                padding='max_length', truncation=True, return_tensors=\"pt\")\n",
    "    token_embeds = model(tokenized_texts[\"input_ids\"].to(device),\n",
    "                         tokenized_texts[\"attention_mask\"].to(device)).last_hidden_state\n",
    "    # pooled_embeds = mean_pool(token_embeds, tokenized_texts[\"attention_mask\"].to(device))\n",
    "    # return pooled_embeds\n",
    "    return token_embeds"
   ]
  },
  {
   "cell_type": "code",
   "execution_count": 8,
   "metadata": {},
   "outputs": [],
   "source": [
    "# # если нужно, загружаем датасет\n",
    "# import pandas as pd \n",
    "# house_answers = pd.read_csv('data/house_answers.csv')"
   ]
  },
  {
   "cell_type": "markdown",
   "metadata": {},
   "source": [
    "Вычисляем эмбеддинги частями, чтобы не переполнилась память"
   ]
  },
  {
   "cell_type": "code",
   "execution_count": 19,
   "metadata": {},
   "outputs": [
    {
     "name": "stderr",
     "output_type": "stream",
     "text": [
      "100%|██████████| 3575/3575 [04:18<00:00, 13.85it/s]\n"
     ]
    }
   ],
   "source": [
    "step = 5\n",
    "embeds = []\n",
    "character_remark = house_answers['line'].to_list() \n",
    "\n",
    "for i in tqdm(range(0, house_answers.shape[0], step)):\n",
    "    input_texts = character_remark[i:i+step]\n",
    "    embed = embed_texts(input_texts, tokenizer, bi_model.bert_model, device)\n",
    "    embed = list(embed.detach().numpy())\n",
    "    embeds.extend(embed)\n"
   ]
  },
  {
   "cell_type": "code",
   "execution_count": 20,
   "metadata": {},
   "outputs": [],
   "source": [
    "tokenized_texts = tokenizer(house_answers['line'].to_list() , max_length=128,\n",
    "                                padding='max_length', truncation=True, return_tensors=\"pt\")"
   ]
  },
  {
   "cell_type": "code",
   "execution_count": 21,
   "metadata": {},
   "outputs": [
    {
     "name": "stderr",
     "output_type": "stream",
     "text": [
      "/var/folders/zp/d17ccr3n4jg8w2cyw6g062fw0000gn/T/ipykernel_23841/1203936714.py:1: UserWarning: Creating a tensor from a list of numpy.ndarrays is extremely slow. Please consider converting the list to a single numpy.ndarray with numpy.array() before converting to a tensor. (Triggered internally at /Users/runner/work/pytorch/pytorch/pytorch/torch/csrc/utils/tensor_new.cpp:257.)\n",
      "  token_embeds = torch.tensor(embeds)\n"
     ]
    }
   ],
   "source": [
    "token_embeds = torch.tensor(embeds)"
   ]
  },
  {
   "cell_type": "code",
   "execution_count": 22,
   "metadata": {},
   "outputs": [],
   "source": [
    "pooled_embeds = mean_pool(token_embeds, tokenized_texts[\"attention_mask\"].to(device))"
   ]
  },
  {
   "cell_type": "code",
   "execution_count": 26,
   "metadata": {},
   "outputs": [
    {
     "data": {
      "text/plain": [
       "torch.Size([17873, 384])"
      ]
     },
     "execution_count": 26,
     "metadata": {},
     "output_type": "execute_result"
    }
   ],
   "source": [
    "pooled_embeds.shape"
   ]
  },
  {
   "cell_type": "code",
   "execution_count": 23,
   "metadata": {},
   "outputs": [],
   "source": [
    "house_answers['pooled_embeds'] = pooled_embeds.tolist()"
   ]
  },
  {
   "cell_type": "code",
   "execution_count": 24,
   "metadata": {},
   "outputs": [
    {
     "data": {
      "text/html": [
       "<div>\n",
       "<style scoped>\n",
       "    .dataframe tbody tr th:only-of-type {\n",
       "        vertical-align: middle;\n",
       "    }\n",
       "\n",
       "    .dataframe tbody tr th {\n",
       "        vertical-align: top;\n",
       "    }\n",
       "\n",
       "    .dataframe thead th {\n",
       "        text-align: right;\n",
       "    }\n",
       "</style>\n",
       "<table border=\"1\" class=\"dataframe\">\n",
       "  <thead>\n",
       "    <tr style=\"text-align: right;\">\n",
       "      <th></th>\n",
       "      <th>name</th>\n",
       "      <th>line</th>\n",
       "      <th>responder</th>\n",
       "      <th>response</th>\n",
       "      <th>token_embeds</th>\n",
       "      <th>pooled_embeds</th>\n",
       "    </tr>\n",
       "  </thead>\n",
       "  <tbody>\n",
       "    <tr>\n",
       "      <th>0</th>\n",
       "      <td>James</td>\n",
       "      <td>You can't go in there.</td>\n",
       "      <td>House</td>\n",
       "      <td>Who are you, and why are you wearing a tie?</td>\n",
       "      <td>0</td>\n",
       "      <td>[-0.34322458505630493, 0.44701823592185974, 0....</td>\n",
       "    </tr>\n",
       "    <tr>\n",
       "      <th>1</th>\n",
       "      <td>James</td>\n",
       "      <td>I'm Dr. Cuddy's new assistant. Can I tell her...</td>\n",
       "      <td>House</td>\n",
       "      <td>Yes. I would like to know why she gets a secr...</td>\n",
       "      <td>0</td>\n",
       "      <td>[0.11418674141168594, 0.38850608468055725, 0.8...</td>\n",
       "    </tr>\n",
       "    <tr>\n",
       "      <th>2</th>\n",
       "      <td>James</td>\n",
       "      <td>I'm her assistant, not her secretary. I gradu...</td>\n",
       "      <td>House</td>\n",
       "      <td>Hmm. I didn't know they had a secretarial sch...</td>\n",
       "      <td>0</td>\n",
       "      <td>[-0.06293102353811264, 0.40018171072006226, 0....</td>\n",
       "    </tr>\n",
       "    <tr>\n",
       "      <th>3</th>\n",
       "      <td>Cuddy</td>\n",
       "      <td>Dr. House, we are in the middle of a meeting.</td>\n",
       "      <td>House</td>\n",
       "      <td>What's with hiring a male secretary? JDate no...</td>\n",
       "      <td>0</td>\n",
       "      <td>[-0.1304904669523239, 0.42438873648643494, 0.6...</td>\n",
       "    </tr>\n",
       "    <tr>\n",
       "      <th>4</th>\n",
       "      <td>Stacy</td>\n",
       "      <td>He is cute. Be careful.</td>\n",
       "      <td>House</td>\n",
       "      <td>She's not like you. She can't just walk into ...</td>\n",
       "      <td>0</td>\n",
       "      <td>[-0.46382877230644226, 0.40922287106513977, 0....</td>\n",
       "    </tr>\n",
       "  </tbody>\n",
       "</table>\n",
       "</div>"
      ],
      "text/plain": [
       "    name                                               line responder  \\\n",
       "0  James                             You can't go in there.     House   \n",
       "1  James   I'm Dr. Cuddy's new assistant. Can I tell her...     House   \n",
       "2  James   I'm her assistant, not her secretary. I gradu...     House   \n",
       "3  Cuddy      Dr. House, we are in the middle of a meeting.     House   \n",
       "4  Stacy                            He is cute. Be careful.     House   \n",
       "\n",
       "                                            response  token_embeds  \\\n",
       "0        Who are you, and why are you wearing a tie?             0   \n",
       "1   Yes. I would like to know why she gets a secr...             0   \n",
       "2   Hmm. I didn't know they had a secretarial sch...             0   \n",
       "3   What's with hiring a male secretary? JDate no...             0   \n",
       "4   She's not like you. She can't just walk into ...             0   \n",
       "\n",
       "                                       pooled_embeds  \n",
       "0  [-0.34322458505630493, 0.44701823592185974, 0....  \n",
       "1  [0.11418674141168594, 0.38850608468055725, 0.8...  \n",
       "2  [-0.06293102353811264, 0.40018171072006226, 0....  \n",
       "3  [-0.1304904669523239, 0.42438873648643494, 0.6...  \n",
       "4  [-0.46382877230644226, 0.40922287106513977, 0....  "
      ]
     },
     "execution_count": 24,
     "metadata": {},
     "output_type": "execute_result"
    }
   ],
   "source": [
    "house_answers.head()"
   ]
  },
  {
   "cell_type": "code",
   "execution_count": 25,
   "metadata": {},
   "outputs": [],
   "source": [
    "house_answers.to_csv('data/house_answers.csv', index=False)"
   ]
  },
  {
   "cell_type": "code",
   "execution_count": 27,
   "metadata": {},
   "outputs": [],
   "source": [
    "house_answers_1 = pd.read_csv('data/house_answers.csv')"
   ]
  },
  {
   "cell_type": "code",
   "execution_count": 48,
   "metadata": {},
   "outputs": [],
   "source": [
    "# import json\n",
    "# house_answers_1['pooled_embeds'] = house_answers_1['pooled_embeds'].apply(lambda x: json.loads(x))"
   ]
  },
  {
   "cell_type": "code",
   "execution_count": null,
   "metadata": {},
   "outputs": [],
   "source": []
  }
 ],
 "metadata": {
  "kernelspec": {
   "display_name": "Python 3",
   "language": "python",
   "name": "python3"
  },
  "language_info": {
   "codemirror_mode": {
    "name": "ipython",
    "version": 3
   },
   "file_extension": ".py",
   "mimetype": "text/x-python",
   "name": "python",
   "nbconvert_exporter": "python",
   "pygments_lexer": "ipython3",
   "version": "3.11.6"
  }
 },
 "nbformat": 4,
 "nbformat_minor": 2
}
